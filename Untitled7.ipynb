{
 "cells": [
  {
   "cell_type": "code",
   "execution_count": 75,
   "metadata": {},
   "outputs": [],
   "source": [
    "#импорт библиотек\n",
    "import sympy as sp\n",
    "import numpy as np\n",
    "from math import*\n",
    "from numpy import matrix"
   ]
  },
  {
   "cell_type": "code",
   "execution_count": 76,
   "metadata": {},
   "outputs": [
    {
     "name": "stdout",
     "output_type": "stream",
     "text": [
      "x1s=0\n",
      "x2s=1\n",
      "y1s=2\n",
      "y2s=5\n",
      "x1n=7\n",
      "x2n=8\n",
      "y1n=6\n",
      "y2n=7\n"
     ]
    }
   ],
   "source": [
    "#объявляем переменные \n",
    "x1s,x1n,y1s,y1n,X0,Y0,m0,a0=sp.symbols('x1s,x1n,y1s,y1n,X0,Y0,m0,a0')\n",
    "\n",
    "#вводим исходные данные\n",
    "#s-старая ск, n-новая ск\n",
    "\n",
    "x1s=float(input('x1s='))\n",
    "x2s=float(input('x2s='))\n",
    "y1s=float(input('y1s='))\n",
    "y2s=float(input('y2s='))\n",
    "x1n=float(input('x1n='))\n",
    "x2n=float(input('x2n='))\n",
    "y1n=float(input('y1n='))\n",
    "y2n=float(input('y2n='))"
   ]
  },
  {
   "cell_type": "code",
   "execution_count": 92,
   "metadata": {},
   "outputs": [],
   "source": [
    "#предварительные значения\n",
    "dx=x2s-x1s\n",
    "dx1=x2n-x1n\n",
    "dy=y2s-y1s\n",
    "dy1=y2n-y1n\n",
    "m0=sqrt((dx1**2+dy1**2)/(dx**2+dy**2))\n",
    "tga0=(dy1*dx-dx1*dy)/(dx*dx1+dy*dy1)\n",
    "a0=atan(tga0)\n",
    "X0=((x1n+x2n)/2)-m0*(((x1s+x2s)/2)*cos(a0)-((y1s+y2s)/2)*sin(a0))\n",
    "Y0=((y1n+y2n)/2)-m0*(((x1s+x2s)/2)*sin(a0)-((y1s+y2s)/2)*cos(a0))\n",
    "\n",
    "#матрица предварительных значений\n",
    "P=[[X0]]\n",
    "P+=[[Y0]]\n",
    "P+=[[m0]]\n",
    "P+=[[a0]]"
   ]
  },
  {
   "cell_type": "code",
   "execution_count": 93,
   "metadata": {},
   "outputs": [],
   "source": [
    "#для распознавания функции derivative\n",
    "from math import sin, radians\n",
    "\n",
    "def sinus(x):\n",
    "    return sin(radians(x))\n",
    "\n",
    "def derivative(func , x):\n",
    "    h = 0.0000000001\n",
    "    return (func(x+h)-func(x))/h\n",
    "\n",
    "def f(x):\n",
    "    return 2*x**2+x"
   ]
  },
  {
   "cell_type": "code",
   "execution_count": 94,
   "metadata": {},
   "outputs": [
    {
     "name": "stdout",
     "output_type": "stream",
     "text": [
      "созданная матрица первой производной: \n",
      " [[0.200000016548074], [-0.600000049644223], [-2.86217050060600], [0.159996460524781]]\n"
     ]
    }
   ],
   "source": [
    "#взятие первой производной\n",
    "\n",
    "def p1x(X0):\n",
    "    return (x1s-(x1n-X0)*sp.cos(a0)*m0-(y1n-Y0)*sp.sin(a0)*m0)+(y1s-(x1n-X0)*sp.sin(a0)*m0+(y1n-Y0)*sp.cos(a0)*m0)\n",
    "p1xx=derivative(p1x,X0)\n",
    "\n",
    "\n",
    "def p1y(Y0):\n",
    "    return (x1s-(x1n-X0)*sp.cos(a0)*m0-(y1n-Y0)*sp.sin(a0)*m0)+(y1s-(x1n-X0)*sp.sin(a0)*m0+(y1n-Y0)*sp.cos(a0)*m0)\n",
    "p1yy=derivative(p1y,Y0)\n",
    "\n",
    "\n",
    "def p1m(m0):\n",
    "    return (x1s-(x1n-X0)*sp.cos(a0)*m0-(y1n-Y0)*sp.sin(a0)*m0)+(y1s-(x1n-X0)*sp.sin(a0)*m0+(y1n-Y0)*sp.cos(a0)*m0)\n",
    "p1mm=derivative(p1m,m0)\n",
    "\n",
    "def p1a(a0):\n",
    "    return (x1s-(x1n-X0)*sp.cos(a0)*m0-(y1n-Y0)*sp.sin(a0)*m0)+(y1s-(x1n-X0)*sp.sin(a0)*m0+(y1n-Y0)*sp.cos(a0)*m0)\n",
    "p1aa=derivative(p1a,a0)\n",
    "\n",
    "# матрица первой производной\n",
    "L=[[p1xx]]\n",
    "L+=[[p1yy]]\n",
    "L+=[[p1mm]]\n",
    "L+=[[p1aa]]\n",
    "print ('созданная матрица первой производной: \\n',L)"
   ]
  },
  {
   "cell_type": "code",
   "execution_count": 95,
   "metadata": {},
   "outputs": [],
   "source": [
    "# Взятие второй проиводной по X0\n",
    "def p2x(X0):\n",
    "    return (m0*sin(a0) + m0*cos(a0))\n",
    "p2xx=derivative(p2x,X0)\n",
    "\n",
    "def p2x(Y0):\n",
    "    return (m0*sin(a0) + m0*cos(a0))\n",
    "p2xy=derivative(p2x,Y0)\n",
    "\n",
    "def p2x(m0):\n",
    "    return (m0*sin(a0) + m0*cos(a0))\n",
    "p2xm=derivative(p2x,m0)\n",
    "\n",
    "def p2x(a0):\n",
    "    return (m0*sin(a0) + m0*cos(a0))\n",
    "p2xa=derivative(p2x,a0)\n",
    "\n",
    "# Взятие второй проиводной по Y0\n",
    "def p2y(X0):\n",
    "    return (m0*sin(a0) - m0*cos(a0))\n",
    "p2yx=derivative(p2y,X0)\n",
    "\n",
    "def p2y(Y0):\n",
    "    return (m0*sin(a0) - m0*cos(a0))\n",
    "p2yy=derivative(p2y,Y0)\n",
    "\n",
    "def p2y(m0):\n",
    "    return (m0*sin(a0) - m0*cos(a0))\n",
    "p2ym=derivative(p2y,m0)\n",
    "\n",
    "def p2e(a0):\n",
    "    return (m0*sin(a0) - m0*cos(a0))\n",
    "p2ya=derivative(p2y,a0)\n",
    "\n",
    "# Взятие второй проиводной по m0\n",
    "def p2m(X0):\n",
    "    return ((X0 - x1n)*sin(a0) + (X0 - x1n)*cos(a0) + (-Y0 + y1n)*cos(a0) + (Y0 - y1n)*sin(a0))\n",
    "p2mx=derivative(p2m,X0)\n",
    "\n",
    "def p2m(Y0):\n",
    "    return  ((X0 - x1n)*sin(a0) + (X0 - x1n)*cos(a0) + (-Y0 + y1n)*cos(a0) + (Y0 - y1n)*sin(a0))\n",
    "p2my=derivative(p2m,Y0)\n",
    "\n",
    "def p2m(m0):\n",
    "    return  ((X0 - x1n)*sin(a0) + (X0 - x1n)*cos(a0) + (-Y0 + y1n)*cos(a0) + (Y0 - y1n)*sin(a0))\n",
    "p2mm=derivative(p2m,m0)\n",
    "\n",
    "\n",
    "def p2m(a0):\n",
    "    return  ((X0 - x1n)*sin(a0) + (X0 - x1n)*cos(a0) + (-Y0 + y1n)*cos(a0) + (Y0 - y1n)*sin(a0))\n",
    "p2ma=derivative(p2m,a0)\n",
    "\n",
    "# Взятие второй проиводной по a0\n",
    "def p2a(a0):\n",
    "    return (m0*(-X0 + x1n)*sp.sin(a0) - m0*(-X0 + x1n)*sp.cos(a0) - m0*(-Y0 + y1n)*sp.sin(a0) - m0*(-Y0 + y1n)*sp.cos(a0))\n",
    "p2aa=derivative(p2a,a0)\n",
    "\n",
    "def p2a(X0):\n",
    "    return (m0*(-X0 + x1n)*sp.sin(a0) - m0*(-X0 + x1n)*sp.cos(a0) - m0*(-Y0 + y1n)*sp.sin(a0) - m0*(-Y0 + y1n)*sp.cos(a0))\n",
    "p2ax=derivative(p2a,X0)\n",
    "\n",
    "def p2a(Y0):\n",
    "    return (m0*(-X0 + x1n)*sp.sin(a0) - m0*(-X0 + x1n)*sp.cos(a0) - m0*(-Y0 + y1n)*sp.sin(a0) - m0*(-Y0 + y1n)*sp.cos(a0))\n",
    "p2ay=derivative(p2a,Y0)\n",
    "\n",
    "\n",
    "def p2a(m0):\n",
    "    return (m0*(-X0 + x1n)*sp.sin(a0) - m0*(-X0 + x1n)*sp.cos(a0) - m0*(-Y0 + y1n)*sp.sin(a0) - m0*(-Y0 + y1n)*sp.cos(a0))\n",
    "p2am=derivative(p2a,m0)"
   ]
  },
  {
   "cell_type": "code",
   "execution_count": 96,
   "metadata": {},
   "outputs": [
    {
     "name": "stdout",
     "output_type": "stream",
     "text": [
      "созданная матрица первой производной: \n",
      " [[0.0, 0.0, 0.44721365499711396, 0.6000006047557349], [0.0, 0.0, -1.341641242547098, -1.341641242547098], [0.44721115699530856, -1.3416423527701227, 0.0, 0.35776714923940744], [0.600000049644223, 0.200000016548074, 0.357770479908481, 1.28000054999688]]\n"
     ]
    }
   ],
   "source": [
    "#матрица вторых производных\n",
    "H=[]\n",
    "H=[[p2xx,p2xy,p2xm,p2xa]]\n",
    "H+=[[p2yx,p2yy,p2ym,p2ya]]\n",
    "H+=[[p2mx,p2my,p2mm,p2ma]]\n",
    "H+=[[p2ax,p2ay,p2am,p2aa]]\n",
    "print ('созданная матрица первой производной: \\n',H)"
   ]
  },
  {
   "cell_type": "code",
   "execution_count": 97,
   "metadata": {},
   "outputs": [],
   "source": [
    "#определение элементов союзной матрицы\n",
    "h11=p2yy*p2mm*p2aa+p2ym*p2ma*p2ay+p2ya*p2my*p2am-p2ya*p2mm*p2ay-p2am*p2ma*p2yy-p2ym*p2my*p2aa\n",
    "h12=(-1)*(p2yx*p2mm*p2aa+p2ym*p2ma*p2ax+p2ya*p2mx*p2am-p2ya*p2mm*p2ax-p2am*p2ma*p2yx-p2ym*p2mx*p2aa)\n",
    "h13=p2yx*p2my*p2aa+p2yy*p2ma*p2ax+p2ya*p2mx*p2ya-p2ya*p2my*p2ay-p2ay*p2ma*p2yx-p2yy*p2mx*p2aa #\n",
    "h14=(-1)*(p2yx*p2my*p2am+p2yy*p2mm*p2ax+p2ya*p2mx*p2ym-p2ym*p2my*p2ax-p2ay*p2mm*p2yx-p2yy*p2mx*p2am)\n",
    "\n",
    "h21=(-1)*(p2xy*p2mm*p2aa+p2xm*p2ma*p2ay+p2xa*p2my*p2am-p2xa*p2mm*p2ay-p2am*p2ma*p2xy-p2xm*p2my*p2aa)\n",
    "h22=p2xx*p2mm*p2aa+p2xm*p2ma*p2ax+p2xa*p2mx*p2am-p2xa*p2mm*p2ax-p2am*p2ma*p2xx-p2xm*p2mx*p2aa\n",
    "h23=(-1)*(p2xx*p2my*p2aa+p2xy*p2ma*p2ax+p2xa*p2mx*p2ay-p2xa*p2my*p2ax-p2ay*p2ma*p2xx-p2xy*p2mx*p2aa)\n",
    "h24=p2xx*p2my*p2am+p2xm*p2mx*p2ay+p2xy*p2mm*p2ax-p2xm*p2my*p2ax-p2ay*p2mm*p2xx-p2xy*p2yx*p2am\n",
    "\n",
    "h31=p2xy*p2ym*p2aa+p2xm*p2ya*p2am+p2yy*p2am*p2xa-p2xa*p2ym*p2ay-p2am*p2ya*p2xy-p2yy*p2xm*p2aa\n",
    "h32=(-1)*(p2xx*p2ym*p2aa+p2yx*p2am*p2xa+p2xm*p2ya*p2ax-p2xa*p2ym*p2ax-p2am*p2ya*p2xx-p2yx*p2xm*p2aa)\n",
    "h33=p2xx*p2yy*p2aa+p2yx*p2ay*p2xa+p2xy*p2ya*p2ax-p2xa*p2yy*p2ax-p2ay*p2ya*p2xx-p2yx*p2xy*p2aa\n",
    "h34=(-1)*(p2xx*p2yy*p2am+p2yx*p2ay*p2xm+p2xy*p2ym*p2ax-p2xm*p2yy*p2ax-p2ay*p2ym*p2xx-p2yx*p2xy*p2am)\n",
    "\n",
    "h41=(-1)*(p2xy*p2ym*p2ma+p2xm*p2ya*p2my+p2yy*p2mm*p2xa-p2xa*p2ym*p2my-p2mm*p2ya*p2xy-p2yy*p2xm*p2ma)\n",
    "h42=p2xx*p2ym*p2ma+p2yx*p2mm*p2xa+p2xm*p2ya*p2mx-p2xa*p2ym*p2mx-p2mm*p2ya*p2xx-p2yx*p2xm*p2ma\n",
    "h43=(-1)*(p2xx*p2yy*p2ma+p2yx*p2my*p2xa+p2xy*p2ya*p2mx-p2xa*p2yy*p2mx-p2my*p2ya*p2xx-p2yx*p2xy*p2ma)\n",
    "h44=p2xx*p2yy*p2mm+p2yx*p2my*p2xm+p2xy*p2ym*p2mx-p2xm*p2yy*p2mx-p2my*p2ym*p2xx-p2yx*p2xy*p2mm\n",
    "\n",
    "#союзная матрица\n",
    "Hs=[]\n",
    "Hs=[[h11,h12,h13,h14]]\n",
    "Hs+=[[h21,h22,h23,h24]]\n",
    "Hs+=[[h31,h32,h33,h34]]\n",
    "Hs+=[[h41,h42,h43,h44]]"
   ]
  },
  {
   "cell_type": "code",
   "execution_count": 98,
   "metadata": {},
   "outputs": [],
   "source": [
    "#Транспонированная матрица\n",
    "HsT=[]\n",
    "HsT=[[h11,h21,h31,h41]]\n",
    "HsT+=[[h12,h22,h32,h42]]\n",
    "HsT+=[[h13,h23,h33,h43]]\n",
    "HsT+=[[h14,h24,h34,h44]]"
   ]
  },
  {
   "cell_type": "code",
   "execution_count": 99,
   "metadata": {},
   "outputs": [
    {
     "name": "stdout",
     "output_type": "stream",
     "text": [
      "0.364013976666868\n"
     ]
    }
   ],
   "source": [
    "# определитель матрицы\n",
    "a1=p2xx*(p2yy*p2mm*p2aa+p2ym*p2ma*p2ay+p2ya*p2my*p2am-p2ya*p2mm*p2ay-p2am*p2ma*p2yy-p2ym*p2my*p2aa)\n",
    "a2=p2xy*(-1)*(p2yx*p2mm*p2aa+p2ym*p2ma*p2ax+p2ya*p2mx*p2am-p2ya*p2mm*p2ax-p2am*p2ma*p2yx-p2ym*p2mx*p2aa)\n",
    "a3=p2xm*(p2yx*p2my*p2aa+p2yy*p2ma*p2ax+p2ya*p2mx*p2ya-p2ya*p2my*p2ay-p2ay*p2ma*p2yx-p2yy*p2mx*p2aa) \n",
    "a4=p2xa*(-1)*(p2yx*p2my*p2am+p2yy*p2mm*p2ax+p2ya*p2mx*p2ym-p2ym*p2my*p2ax-p2ay*p2mm*p2yx-p2yy*p2mx*p2am) \n",
    "dH=a1+a2+a3+a4\n",
    "print(dH)"
   ]
  },
  {
   "cell_type": "code",
   "execution_count": 100,
   "metadata": {},
   "outputs": [
    {
     "name": "stdout",
     "output_type": "stream",
     "text": [
      "[[-4.82403363993860, -1.40654130825369, -0.147426385280337, 0.755511990580710], [-0.728922812216357, -0.175818140922131, -0.337874867261962, 0.251835663009454], [1.22242574718806, -1.47427627934536, 0, 0], [0.755523427883876, 1.09885969803313, 0, 0]]\n"
     ]
    }
   ],
   "source": [
    "# Обратная матрица\n",
    "H0=[]\n",
    "H0+=[[(h11/dH),(h21/dH),(h31/dH),(h41/dH)]]\n",
    "H0+=[[(h12/dH),(h22/dH),(h32/dH),(h42/dH)]]\n",
    "H0+=[[(h13/dH),(h23/dH),(h33/dH),(h43/dH)]]\n",
    "H0+=[[(h14/dH),(h24/dH),(h34/dH),(h44/dH)]]\n",
    "print(H0)"
   ]
  },
  {
   "cell_type": "code",
   "execution_count": 105,
   "metadata": {},
   "outputs": [],
   "source": [
    "#перемножение матриц\n",
    "r = np.dot(H0,L)\n",
    "\n",
    "#сложение матриц\n",
    "Z=P+r"
   ]
  },
  {
   "cell_type": "code",
   "execution_count": 109,
   "metadata": {},
   "outputs": [
    {
     "name": "stdout",
     "output_type": "stream",
     "text": [
      "результат первого приближения: [7.02195674229997] [8.96705461146487] [1.57626460596287] [-0.971858784293488]\n"
     ]
    }
   ],
   "source": [
    "#итог первого приближения\n",
    "dX=Z[0]\n",
    "dY=Z[1]\n",
    "m=Z[2]\n",
    "a=Z[3]\n",
    "print('результат первого приближения:', dX,dY,m,a)"
   ]
  }
 ],
 "metadata": {
  "kernelspec": {
   "display_name": "Python 3",
   "language": "python",
   "name": "python3"
  },
  "language_info": {
   "codemirror_mode": {
    "name": "ipython",
    "version": 3
   },
   "file_extension": ".py",
   "mimetype": "text/x-python",
   "name": "python",
   "nbconvert_exporter": "python",
   "pygments_lexer": "ipython3",
   "version": "3.8.3"
  }
 },
 "nbformat": 4,
 "nbformat_minor": 4
}
